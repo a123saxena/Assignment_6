{
 "cells": [
  {
   "cell_type": "code",
   "execution_count": 1,
   "metadata": {},
   "outputs": [
    {
     "name": "stdout",
     "output_type": "stream",
     "text": [
      "Dog: Buddy, Age: 3 years\n",
      "Coat Color: White\n",
      "Height:  inches\n",
      "Lifespan:  years\n",
      "\n",
      "\n",
      "Dog: Max, Age: 5 years\n",
      "Coat Color: Brown\n",
      "Height:  inches\n",
      "Lifespan:  years\n"
     ]
    }
   ],
   "source": [
    "class Dog:\n",
    "    def __init__(self, name, age, coat_color):\n",
    "        self.name = name\n",
    "        self.age = age\n",
    "        self.coat_color = coat_color\n",
    "\n",
    "    def description(self):\n",
    "        print(f\"Dog: {self.name}, Age: {self.age} years\")\n",
    "\n",
    "    def get_info(self):\n",
    "        print(f\"Coat Color: {self.coat_color}\")\n",
    "\n",
    "\n",
    "class JackRussellTerrier(Dog):\n",
    "    def __init__(self, name, age, coat_color):\n",
    "        super().__init__(name, age, coat_color)\n",
    "\n",
    "    def get_height(self):\n",
    "        height = input(\"Enter Jack Russell Terrier's height: \")\n",
    "        print(f\"Height: {height} inches\")\n",
    "\n",
    "    def get_lifespan(self):\n",
    "        lifespan = input(\"Enter Jack Russell Terrier's lifespan: \")\n",
    "        print(f\"Lifespan: {lifespan} years\")\n",
    "\n",
    "\n",
    "class Bulldog(Dog):\n",
    "    def __init__(self, name, age, coat_color):\n",
    "        super().__init__(name, age, coat_color)\n",
    "\n",
    "    def get_height(self):\n",
    "        height = input(\"Enter Bulldog's height: \")\n",
    "        print(f\"Height: {height} inches\")\n",
    "\n",
    "    def get_lifespan(self):\n",
    "        lifespan = input(\"Enter Bulldog's lifespan: \")\n",
    "        print(f\"Lifespan: {lifespan} years\")\n",
    "\n",
    "\n",
    "# Create Jack Russell Terrier object\n",
    "jack_russell = JackRussellTerrier(\"Buddy\", 3, \"White\")\n",
    "jack_russell.description()\n",
    "jack_russell.get_info()\n",
    "jack_russell.get_height()\n",
    "jack_russell.get_lifespan()\n",
    "print(\"\\n\")\n",
    "\n",
    "# Create Bulldog object\n",
    "bulldog = Bulldog(\"Max\", 5, \"Brown\")\n",
    "bulldog.description()\n",
    "bulldog.get_info()\n",
    "bulldog.get_height()\n",
    "bulldog.get_lifespan()\n"
   ]
  }
 ],
 "metadata": {
  "kernelspec": {
   "display_name": "Python 3",
   "language": "python",
   "name": "python3"
  },
  "language_info": {
   "codemirror_mode": {
    "name": "ipython",
    "version": 3
   },
   "file_extension": ".py",
   "mimetype": "text/x-python",
   "name": "python",
   "nbconvert_exporter": "python",
   "pygments_lexer": "ipython3",
   "version": "3.12.0"
  }
 },
 "nbformat": 4,
 "nbformat_minor": 2
}
