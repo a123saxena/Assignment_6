{
 "cells": [
  {
   "cell_type": "code",
   "execution_count": 2,
   "metadata": {},
   "outputs": [
    {
     "name": "stdout",
     "output_type": "stream",
     "text": [
      "Data has been written to indian_states_capitals.json\n"
     ]
    }
   ],
   "source": [
    "import json\n",
    "\n",
    "# Dictionary of Indian states and capitals\n",
    "indian_states_capitals = {\n",
    "    \"Maharashtra\": \"Mumbai\",\n",
    "    \"Tamil Nadu\": \"Chennai\",\n",
    "    \"Karnataka\": \"Bengaluru\",\n",
    "    \"Uttar Pradesh\": \"Lucknow\",\n",
    "    \"Gujarat\": \"Gandhinagar\",\n",
    "    \"Rajasthan\": \"Jaipur\",\n",
    "    \"Kerala\": \"Thiruvananthapuram\"\n",
    "}\n",
    "\n",
    "# Convert the dictionary to JSON format\n",
    "\n",
    "writer = open (\"indian_states_capitals.json\", \"w\")\n",
    "\n",
    "str_json = json.dumps (indian_states_capitals, indent=4)\n",
    "\n",
    "writer.write(str_json)\n",
    "\n",
    "print(\"Data has been written to indian_states_capitals.json\")\n"
   ]
  }
 ],
 "metadata": {
  "kernelspec": {
   "display_name": "Python 3",
   "language": "python",
   "name": "python3"
  },
  "language_info": {
   "codemirror_mode": {
    "name": "ipython",
    "version": 3
   },
   "file_extension": ".py",
   "mimetype": "text/x-python",
   "name": "python",
   "nbconvert_exporter": "python",
   "pygments_lexer": "ipython3",
   "version": "3.12.0"
  }
 },
 "nbformat": 4,
 "nbformat_minor": 2
}
