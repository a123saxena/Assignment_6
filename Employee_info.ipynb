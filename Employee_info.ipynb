{
 "cells": [
  {
   "cell_type": "code",
   "execution_count": 1,
   "metadata": {},
   "outputs": [
    {
     "name": "stdout",
     "output_type": "stream",
     "text": [
      "Name: Anita, DOB: 1999-05-15, Height: 175, City: Indore, State: MP\n",
      "Name: Shivam, DOB: 1995-08-22, Height: 180, City: Chennai, State: TN\n",
      "Name: Sneha, DOB: 1997-03-10, Height: 168, City: Jaipur, State: RJ\n",
      "Name: Sandeep, DOB: 1998-11-05, Height: 178, City: Karnal, State: HR\n",
      "Name: Sakshi, DOB: 1996-02-18, Height: 169, City: Lucknow, State: UP\n"
     ]
    }
   ],
   "source": [
    "import json\n",
    "\n",
    "class Employee:\n",
    "    def __init__(self, name, dob, height, city, state):\n",
    "        self.name = name\n",
    "        self.dob = dob\n",
    "        self.height = height\n",
    "        self.city = city\n",
    "        self.state = state\n",
    "\n",
    "# Read data from JSON file\n",
    "with open('employee.json', 'r') as file:\n",
    "    employee_data = json.load(file)\n",
    "\n",
    "# Create a list to store Employee objects\n",
    "employee_objects = []\n",
    "\n",
    "# Iterate through the data and create Employee objects\n",
    "for data in employee_data:\n",
    "    employee_object = Employee(\n",
    "        data[\"Name\"],\n",
    "        data[\"DOB\"],\n",
    "        data[\"Height\"],\n",
    "        data[\"City\"],\n",
    "        data[\"State\"]\n",
    "    )\n",
    "    employee_objects.append(employee_object)\n",
    "\n",
    "# Print the list of Employee objects\n",
    "for employee_object in employee_objects:\n",
    "    print(f\"Name: {employee_object.name}, DOB: {employee_object.dob}, Height: {employee_object.height}, City: {employee_object.city}, State: {employee_object.state}\")\n",
    "\n"
   ]
  }
 ],
 "metadata": {
  "kernelspec": {
   "display_name": "Python 3",
   "language": "python",
   "name": "python3"
  },
  "language_info": {
   "codemirror_mode": {
    "name": "ipython",
    "version": 3
   },
   "file_extension": ".py",
   "mimetype": "text/x-python",
   "name": "python",
   "nbconvert_exporter": "python",
   "pygments_lexer": "ipython3",
   "version": "3.12.0"
  }
 },
 "nbformat": 4,
 "nbformat_minor": 2
}
